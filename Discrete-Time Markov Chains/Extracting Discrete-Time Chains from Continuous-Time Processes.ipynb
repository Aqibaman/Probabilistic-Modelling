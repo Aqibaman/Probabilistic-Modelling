{
 "cells": [
  {
   "cell_type": "markdown",
   "id": "7ab3e13e-fae3-48e2-bc5a-92a5dd6aa9ec",
   "metadata": {},
   "source": [
    "# Embedded Chain Example Problem"
   ]
  },
  {
   "cell_type": "code",
   "execution_count": 10,
   "id": "5bc53c16-4804-4024-b266-9e1b5b784caf",
   "metadata": {},
   "outputs": [
    {
     "name": "stdout",
     "output_type": "stream",
     "text": [
      "Embedded Chain (Room Changes):\n",
      "   Step    Room\n",
      "0     1  Room D\n",
      "1     2  Room A\n",
      "2     3  Room D\n",
      "3     4  Room C\n",
      "4     5  Room D\n",
      "5     6  Room C\n",
      "6     7  Room B\n",
      "7     8  Room C\n",
      "8     9  Room A\n",
      "9    10  Room C\n"
     ]
    }
   ],
   "source": [
    "import numpy as np\n",
    "import random\n",
    "import pandas as pd\n",
    "\n",
    "# 1. Embedded Chain: Rat moving between rooms at random times\n",
    "def embedded_chain(n_steps=10):\n",
    "    states = ['Room A', 'Room B', 'Room C', 'Room D']\n",
    "    chain = []\n",
    "    current_state = random.choice(states)\n",
    "\n",
    "    for _ in range(n_steps):\n",
    "        next_state = random.choice([s for s in states if s != current_state])\n",
    "        chain.append(next_state)\n",
    "        current_state = next_state\n",
    "\n",
    "    return chain\n",
    "\n",
    "# Running the chain\n",
    "embedded_chain_result = embedded_chain()\n",
    "\n",
    "# Convert results into DataFrame for better visualization\n",
    "df_embedded = pd.DataFrame({'Step': range(1, len(embedded_chain_result) + 1), 'Room': embedded_chain_result})\n",
    "\n",
    "# Display results\n",
    "print(\"Embedded Chain (Room Changes):\")\n",
    "print(df_embedded)"
   ]
  },
  {
   "cell_type": "markdown",
   "id": "d5e3dc73-6a15-454a-92b9-3b2753a2ea51",
   "metadata": {},
   "source": [
    "# Equally Spaced Chain Example Problem"
   ]
  },
  {
   "cell_type": "code",
   "execution_count": 6,
   "id": "c0d040d3-7b4d-4a7d-801d-d87af887f959",
   "metadata": {},
   "outputs": [
    {
     "name": "stdout",
     "output_type": "stream",
     "text": [
      "\n",
      "Equally Spaced Chain (Mood Tracking):\n",
      "   Day   Mood\n",
      "0    1  Happy\n",
      "1    2  Happy\n",
      "2    3    Sad\n",
      "3    4    Sad\n",
      "4    5  Happy\n",
      "5    6    Sad\n",
      "6    7    Sad\n",
      "7    8    Sad\n",
      "8    9    Sad\n",
      "9   10    Sad\n"
     ]
    }
   ],
   "source": [
    "# 2. Equally Spaced Chain: Checking mood every 24 hours\n",
    "def equally_spaced_chain(n_days=10):\n",
    "    moods = ['Happy', 'Sad']\n",
    "    chain = [random.choice(moods) for _ in range(n_days)]\n",
    "    return chain\n",
    "\n",
    "# Running the chain\n",
    "equally_spaced_chain_result = equally_spaced_chain()\n",
    "\n",
    "# Convert result into DataFrame for better visualization\n",
    "df_equally_spaced = pd.DataFrame({'Day': range(1, len(equally_spaced_chain_result) + 1), 'Mood': equally_spaced_chain_result})\n",
    "\n",
    "# Display result\n",
    "print(\"\\nEqually Spaced Chain (Mood Tracking):\")\n",
    "print(df_equally_spaced)"
   ]
  },
  {
   "cell_type": "markdown",
   "id": "43b14afa-401d-4a76-97dd-5ee959310200",
   "metadata": {},
   "source": [
    "# Randomly Spaced Chain Example Problem"
   ]
  },
  {
   "cell_type": "code",
   "execution_count": 8,
   "id": "77551ade-0828-48e4-b604-85ee45072b1b",
   "metadata": {},
   "outputs": [
    {
     "name": "stdout",
     "output_type": "stream",
     "text": [
      "\n",
      "Randomly Spaced Chain (Restaurant Violations):\n",
      "   Inspection Day  Violations\n",
      "0               3           0\n",
      "1               4           0\n",
      "2               5           2\n",
      "3               9           2\n",
      "4              14           2\n",
      "5              15           3\n",
      "6              16           0\n",
      "7              22           4\n",
      "8              25           1\n",
      "9              28           0\n"
     ]
    }
   ],
   "source": [
    "# 3. Randomly Spaced Chain: Restaurant inspection at random times\n",
    "def randomly_spaced_chain(n_inspections=10):\n",
    "    max_days = 30  # Assume 30-day period\n",
    "    inspection_days = sorted(random.sample(range(1, max_days+1), n_inspections))\n",
    "    violations = [random.randint(0, 5) for _ in range(n_inspections)]\n",
    "\n",
    "    return list(zip(inspection_days, violations))\n",
    "\n",
    "# Running the chain\n",
    "randomly_spaced_chain_result = randomly_spaced_chain()\n",
    "\n",
    "# Convert result into DataFrame for better visualization\n",
    "df_randomly_spaced = pd.DataFrame(randomly_spaced_chain_result, columns=['Inspection Day', 'Violations'])\n",
    "\n",
    "# Display result\n",
    "print(\"\\nRandomly Spaced Chain (Restaurant Violations):\")\n",
    "print(df_randomly_spaced)"
   ]
  },
  {
   "cell_type": "code",
   "execution_count": null,
   "id": "68b31049-3fbb-48ef-8048-6fee05af36d9",
   "metadata": {},
   "outputs": [],
   "source": []
  }
 ],
 "metadata": {
  "kernelspec": {
   "display_name": "Python [conda env:base] *",
   "language": "python",
   "name": "conda-base-py"
  },
  "language_info": {
   "codemirror_mode": {
    "name": "ipython",
    "version": 3
   },
   "file_extension": ".py",
   "mimetype": "text/x-python",
   "name": "python",
   "nbconvert_exporter": "python",
   "pygments_lexer": "ipython3",
   "version": "3.11.11"
  }
 },
 "nbformat": 4,
 "nbformat_minor": 5
}
