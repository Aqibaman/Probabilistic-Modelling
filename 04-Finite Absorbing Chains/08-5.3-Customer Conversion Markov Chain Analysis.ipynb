{
 "cells": [
  {
   "cell_type": "code",
   "execution_count": 3,
   "id": "7ed63174-a50d-403b-9ad9-3cf991ca2114",
   "metadata": {},
   "outputs": [
    {
     "name": "stdout",
     "output_type": "stream",
     "text": [
      "Transition Matrix P:\n",
      "       S     L    0     1     2\n",
      "S  1.00  0.00  0.0  0.00  0.00\n",
      "L  0.00  1.00  0.0  0.00  0.00\n",
      "0  0.10  0.30  0.0  0.45  0.15\n",
      "1  0.15  0.10  0.1  0.25  0.50\n",
      "2  0.20  0.05  0.0  0.35  0.40 \n",
      "\n",
      "Q Matrix:\n",
      "      0     1     2\n",
      "0  0.0  0.45  0.15\n",
      "1  0.1  0.25  0.50\n",
      "2  0.0  0.35  0.40 \n",
      "\n",
      "R Matrix:\n",
      "       S     L\n",
      "0  0.10  0.30\n",
      "1  0.15  0.10\n",
      "2  0.20  0.05 \n",
      "\n",
      "Fundamental Matrix N:\n",
      "           0         1         2\n",
      "0  1.132853  1.328527  1.390319\n",
      "1  0.247168  2.471679  2.121524\n",
      "2  0.144181  1.441813  2.904222 \n",
      "\n",
      "Expected Steps and Absorption Probabilities:\n",
      "    Expected Steps   P(Sale)   P(Lost)\n",
      "0        3.851699  0.590628  0.542225\n",
      "1        4.840371  0.819773  0.427394\n",
      "2        4.490216  0.811535  0.332647\n"
     ]
    }
   ],
   "source": [
    "import numpy as np\n",
    "import pandas as pd\n",
    "\n",
    "# Step 1: Define the transition matrix P\n",
    "states = ['S', 'L', '0', '1', '2']\n",
    "P = [\n",
    "    [1,   0,   0,    0,    0],       # S\n",
    "    [0,   1,   0,    0,    0],       # L\n",
    "    [0.1, 0.3, 0,  0.45, 0.15],      # 0 (New customer)\n",
    "    [0.15,0.1, 0.1,0.25, 0.5],       # 1 (Low interest)\n",
    "    [0.2, 0.05,0,  0.35, 0.4]        # 2 (High interest)\n",
    "]\n",
    "P_df = pd.DataFrame(P_data, index=states, columns=states)\n",
    "\n",
    "# Step 2: Extract Q and R matrices\n",
    "Q_df = P_df.loc[['0', '1', '2'], ['0', '1', '2']]  # Transient to transient\n",
    "R_df = P_df.loc[['0', '1', '2'], ['S', 'L']]       # Transient to absorbing\n",
    "\n",
    "# Step 3: Compute Fundamental Matrix N = (I - Q)^(-1)\n",
    "Q = Q_df.values\n",
    "I = np.eye(Q.shape[0])\n",
    "N = np.linalg.inv(I - Q)\n",
    "N_df = pd.DataFrame(N, index=Q_df.index, columns=Q_df.columns)\n",
    "\n",
    "# Step 4: Compute expected number of steps before absorption\n",
    "expected_steps = N.sum(axis=1)\n",
    "expected_steps_df = pd.DataFrame(expected_steps, index=Q_df.index, columns=[\"Expected Steps\"])\n",
    "\n",
    "# Step 5: Compute absorption probabilities B = N * R\n",
    "R = R_df.values\n",
    "B = N @ R\n",
    "B_df = pd.DataFrame(B, index=Q_df.index, columns=[\"P(Sale)\", \"P(Lost)\"])\n",
    "\n",
    "# Step 6: Combine results for display\n",
    "results_df = pd.concat([expected_steps_df, B_df], axis=1)\n",
    "\n",
    "# Optional: Display results\n",
    "print(\"Transition Matrix P:\\n\", P_df, \"\\n\")\n",
    "print(\"Q Matrix:\\n\", Q_df, \"\\n\")\n",
    "print(\"R Matrix:\\n\", R_df, \"\\n\")\n",
    "print(\"Fundamental Matrix N:\\n\", N_df, \"\\n\")\n",
    "print(\"Expected Steps and Absorption Probabilities:\\n\", results_df)"
   ]
  },
  {
   "cell_type": "code",
   "execution_count": 5,
   "id": "d69c3eb8-9e32-4a62-9bbf-b43719ea594d",
   "metadata": {},
   "outputs": [
    {
     "ename": "NameError",
     "evalue": "name 'P' is not defined",
     "output_type": "error",
     "traceback": [
      "\u001b[1;31m---------------------------------------------------------------------------\u001b[0m",
      "\u001b[1;31mNameError\u001b[0m                                 Traceback (most recent call last)",
      "Cell \u001b[1;32mIn[5], line 10\u001b[0m\n\u001b[0;32m      8\u001b[0m \u001b[38;5;28;01mfor\u001b[39;00m i, from_state \u001b[38;5;129;01min\u001b[39;00m \u001b[38;5;28menumerate\u001b[39m(states):\n\u001b[0;32m      9\u001b[0m     \u001b[38;5;28;01mfor\u001b[39;00m j, to_state \u001b[38;5;129;01min\u001b[39;00m \u001b[38;5;28menumerate\u001b[39m(states):\n\u001b[1;32m---> 10\u001b[0m         prob \u001b[38;5;241m=\u001b[39m P[i][j]\n\u001b[0;32m     11\u001b[0m         \u001b[38;5;28;01mif\u001b[39;00m prob \u001b[38;5;241m>\u001b[39m \u001b[38;5;241m0\u001b[39m:\n\u001b[0;32m     12\u001b[0m             G\u001b[38;5;241m.\u001b[39madd_edge(from_state, to_state, weight\u001b[38;5;241m=\u001b[39mprob, label\u001b[38;5;241m=\u001b[39m\u001b[38;5;124mf\u001b[39m\u001b[38;5;124m\"\u001b[39m\u001b[38;5;132;01m{\u001b[39;00mprob\u001b[38;5;132;01m:\u001b[39;00m\u001b[38;5;124m.2f\u001b[39m\u001b[38;5;132;01m}\u001b[39;00m\u001b[38;5;124m\"\u001b[39m)\n",
      "\u001b[1;31mNameError\u001b[0m: name 'P' is not defined"
     ]
    }
   ],
   "source": [
    "import networkx as nx\n",
    "import matplotlib.pyplot as plt\n",
    "\n",
    "# Create directed graph\n",
    "G = nx.DiGraph()\n",
    "\n",
    "# Add edges with labels for non-zero probabilities\n",
    "for i, from_state in enumerate(states):\n",
    "    for j, to_state in enumerate(states):\n",
    "        prob = P[i][j]\n",
    "        if prob > 0:\n",
    "            G.add_edge(from_state, to_state, weight=prob, label=f\"{prob:.2f}\")\n",
    "\n",
    "# Position the nodes using spring layout\n",
    "pos = nx.spring_layout(G, seed=42)\n",
    "\n",
    "# Draw the graph\n",
    "plt.figure(figsize=(10, 6))\n",
    "nx.draw(G, pos, with_labels=True, node_size=1500, node_color=\"skyblue\", font_size=12, arrowsize=20)\n",
    "labels = nx.get_edge_attributes(G, 'label')\n",
    "nx.draw_networkx_edge_labels(G, pos, edge_labels=labels, font_size=10)\n",
    "plt.title(\"Markov Chain Transition Diagram\")\n",
    "plt.show()"
   ]
  },
  {
   "cell_type": "code",
   "execution_count": null,
   "id": "e49c6eef-bc86-462b-9240-3ac5f956e0c2",
   "metadata": {},
   "outputs": [],
   "source": []
  }
 ],
 "metadata": {
  "kernelspec": {
   "display_name": "Python [conda env:base] *",
   "language": "python",
   "name": "conda-base-py"
  },
  "language_info": {
   "codemirror_mode": {
    "name": "ipython",
    "version": 3
   },
   "file_extension": ".py",
   "mimetype": "text/x-python",
   "name": "python",
   "nbconvert_exporter": "python",
   "pygments_lexer": "ipython3",
   "version": "3.11.11"
  }
 },
 "nbformat": 4,
 "nbformat_minor": 5
}
