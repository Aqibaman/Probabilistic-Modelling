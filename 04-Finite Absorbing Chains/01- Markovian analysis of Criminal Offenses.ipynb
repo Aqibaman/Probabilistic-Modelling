{
 "cells": [
  {
   "cell_type": "markdown",
   "id": "615cba16-e81c-4b6f-9dd2-4d300c4d357a",
   "metadata": {},
   "source": [
    "## MARKOVIAN ANALYSIS AND PREDICTION OF CRIMINAL OFFENSES"
   ]
  },
  {
   "cell_type": "code",
   "execution_count": 1,
   "id": "6c9498a3-0f5e-416a-ac1e-220453bc18b3",
   "metadata": {},
   "outputs": [
    {
     "name": "stdout",
     "output_type": "stream",
     "text": [
      "Fundamental Matrix U:\n",
      "      N     I     T     D     C\n",
      "N  2.51  0.24  0.41  0.08  0.21\n",
      "I  1.43  1.25  0.38  0.08  0.21\n",
      "T  1.62  0.24  1.58  0.09  0.28\n",
      "D  1.77  0.29  0.51  1.12  0.22\n",
      "C  1.54  0.25  0.48  0.08  1.32\n",
      "Expected Crimes Before Desistance:\n",
      "   Total Expected Crimes\n",
      "N                   3.44\n",
      "I                   3.35\n",
      "T                   3.82\n",
      "D                   3.91\n",
      "C                   3.67\n",
      "Observed Mean Offenses:\n",
      "      N     I     T     D     C\n",
      "N  2.06  0.14  0.27  0.06  0.13\n",
      "I  1.25  1.27  0.28  0.09  0.13\n",
      "T  1.41  0.23  1.55  0.07  0.23\n",
      "D  1.37  0.19  0.44  1.11  0.19\n",
      "C  1.81  0.29  0.54  0.11  1.56\n",
      "Comparison of Expected and Observed Crimes:\n",
      "      N     I     T     D     C  Total Expected Crimes  Total Observed Crimes\n",
      "N  2.06  0.14  0.27  0.06  0.13                   3.44                   2.66\n",
      "I  1.25  1.27  0.28  0.09  0.13                   3.35                   3.02\n",
      "T  1.41  0.23  1.55  0.07  0.23                   3.82                   3.49\n",
      "D  1.37  0.19  0.44  1.11  0.19                   3.91                   3.30\n",
      "C  1.81  0.29  0.54  0.11  1.56                   3.67                   4.31\n"
     ]
    }
   ],
   "source": [
    "import numpy as np\n",
    "import pandas as pd\n",
    "import scipy.linalg\n",
    "\n",
    "\n",
    "# Transition matrix P (including absorbing state F)\n",
    "P = np.array([\n",
    "    [1, 0, 0, 0, 0, 0],  # F (absorbing state)\n",
    "    [0.3068, 0.4473, 0.0685, 0.1054, 0.0228, 0.0492],  # N\n",
    "    [0.3314, 0.4090, 0.0920, 0.0854, 0.0222, 0.0600],  # I\n",
    "    [0.2126, 0.4051, 0.0530, 0.2130, 0.0235, 0.0928],  # T\n",
    "    [0.1770, 0.5013, 0.0882, 0.1463, 0.0529, 0.0343],  # D\n",
    "    [0.2478, 0.3922, 0.0703, 0.1378, 0.0169, 0.1350],  # C\n",
    "])\n",
    "\n",
    "# Extract the transient submatrix Q (excluding the absorbing state F)\n",
    "Q = P[1:, 1:]\n",
    "\n",
    "# Compute the fundamental matrix U = (I - Q)^(-1)\n",
    "I = np.eye(Q.shape[0])  # Identity matrix\n",
    "U = np.linalg.inv(I - Q)\n",
    "\n",
    "# Compute the expected number of crimes before absorption (row sums of U)\n",
    "expected_crimes = U.sum(axis=1)\n",
    "\n",
    "# Display results\n",
    "states = ['N', 'I', 'T', 'D', 'C']\n",
    "U_df = pd.DataFrame(U, index=states, columns=states)\n",
    "expected_crimes_df = pd.DataFrame(expected_crimes, index=states, columns=['Total Expected Crimes'])\n",
    "\n",
    "print(\"Fundamental Matrix U:\")\n",
    "print(np.round(U_df,2))\n",
    "print(\"Expected Crimes Before Desistance:\")\n",
    "print(np.round(expected_crimes_df,2))\n",
    "\n",
    "# Observed mean offenses (from Figlio's study)\n",
    "observed_offenses = np.array([\n",
    "    [2.06, 0.14, 0.27, 0.06, 0.13],\n",
    "    [1.25, 1.27, 0.28, 0.09, 0.13],\n",
    "    [1.41, 0.23, 1.55, 0.07, 0.23],\n",
    "    [1.37, 0.19, 0.44, 1.11, 0.19],\n",
    "    [1.81, 0.29, 0.54, 0.11, 1.56],\n",
    "])\n",
    "\n",
    "# Convert observed data into DataFrame\n",
    "observed_df = pd.DataFrame(observed_offenses, index=states, columns=states)\n",
    "print(\"Observed Mean Offenses:\")\n",
    "print(np.round(observed_df,2))\n",
    "\n",
    "# Compare expected vs observed\n",
    "comparison_df = observed_df.copy()\n",
    "comparison_df['Total Expected Crimes'] = expected_crimes\n",
    "comparison_df['Total Observed Crimes'] = observed_offenses.sum(axis=1)\n",
    "print(\"Comparison of Expected and Observed Crimes:\")\n",
    "print(np.round(comparison_df,2))"
   ]
  },
  {
   "cell_type": "markdown",
   "id": "1f39ad80-6eb4-41f7-9710-3b0a0fb33024",
   "metadata": {},
   "source": [
    "## Model Accuracy"
   ]
  },
  {
   "cell_type": "code",
   "execution_count": 12,
   "id": "26008862-3ad8-4eaa-8212-ead7d1bb4703",
   "metadata": {},
   "outputs": [
    {
     "name": "stdout",
     "output_type": "stream",
     "text": [
      "Model Accuracy: 83.97%\n"
     ]
    }
   ],
   "source": [
    "from sklearn.metrics import mean_absolute_error\n",
    "\n",
    "# Predicted patient distribution (from Markov model, rounded to 4 decimal places)\n",
    "predicted = np.round(expected_crimes,2)\n",
    "observed = np.round((observed_offenses.sum(axis=1)),2)\n",
    "\n",
    "# Compute Mean Absolute Error (MAE)\n",
    "mae = mean_absolute_error(observed, predicted)\n",
    "\n",
    "# Convert MAE into accuracy percentage\n",
    "accuracy = round((1 - (mae / np.mean(observed))) * 100, 2)\n",
    "\n",
    "# Print the model accuracy\n",
    "print(f\"Model Accuracy: {accuracy}%\")"
   ]
  },
  {
   "cell_type": "markdown",
   "id": "a61edae3-5fcc-4054-86b8-703b2af3900a",
   "metadata": {},
   "source": [
    "## Model's accuracy using the Chi-Square test"
   ]
  },
  {
   "cell_type": "code",
   "execution_count": 24,
   "id": "155c2d47-88d9-4398-b7b9-693bfb375d70",
   "metadata": {},
   "outputs": [
    {
     "name": "stdout",
     "output_type": "stream",
     "text": [
      "Chi-Square Statistic: 0.3635\n",
      "P-Value: 0.9854\n",
      "The model fits well (no significant difference between predicted and observed values).\n"
     ]
    }
   ],
   "source": [
    "# Scale predicted values to match the sum of observed values\n",
    "predicted = predicted * (np.sum(observed) / np.sum(predicted))\n",
    "\n",
    "# Compute chi-square test\n",
    "chi_stat, p_value = chisquare(f_obs=observed, f_exp=predicted)\n",
    "\n",
    "# Print results\n",
    "print(f\"Chi-Square Statistic: {chi_stat:.4f}\")\n",
    "print(f\"P-Value: {p_value:.4f}\")\n",
    "\n",
    "# Interpretation of the model accuracy\n",
    "if p_value > 0.05:\n",
    "    print(\"The model fits well (no significant difference between predicted and observed values).\")\n",
    "else:\n",
    "    print(\"The model does not fit well (significant difference between predicted and observed values).\")"
   ]
  },
  {
   "cell_type": "code",
   "execution_count": null,
   "id": "f548a628-44a6-4ead-a091-ac712b59d712",
   "metadata": {},
   "outputs": [],
   "source": []
  }
 ],
 "metadata": {
  "kernelspec": {
   "display_name": "Python [conda env:base] *",
   "language": "python",
   "name": "conda-base-py"
  },
  "language_info": {
   "codemirror_mode": {
    "name": "ipython",
    "version": 3
   },
   "file_extension": ".py",
   "mimetype": "text/x-python",
   "name": "python",
   "nbconvert_exporter": "python",
   "pygments_lexer": "ipython3",
   "version": "3.11.11"
  }
 },
 "nbformat": 4,
 "nbformat_minor": 5
}
